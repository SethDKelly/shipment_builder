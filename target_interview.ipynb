{
 "cells": [
  {
   "cell_type": "code",
   "execution_count": 1,
   "metadata": {},
   "outputs": [],
   "source": [
    "import pandas as pd\n",
    "import numpy as np\n",
    "import time\n",
    "import random"
   ]
  },
  {
   "cell_type": "code",
   "execution_count": 2,
   "metadata": {},
   "outputs": [
    {
     "name": "stdout",
     "output_type": "stream",
     "text": [
      "\u001b[0m\u001b[01;34mapp\u001b[0m/               notes_about_csv_file.txt  README.md\r\n",
      "bill_of_lading.py  \u001b[01;34m__pycache__\u001b[0m/              shipment_requirements.yml\r\n",
      "items.csv          QUESTION.docx             target_interview.ipynb\r\n"
     ]
    }
   ],
   "source": [
    "%ls"
   ]
  },
  {
   "cell_type": "code",
   "execution_count": 3,
   "metadata": {},
   "outputs": [
    {
     "name": "stdout",
     "output_type": "stream",
     "text": [
      "The items.csv file is structured as such:\n",
      "\n",
      "item_id\t  item_group  cubic_volume_ft\n",
      "10413\t  A\t          0.1\n",
      "10341\t  A\t          0.5\n",
      "10004\t  B\t          1.0\n",
      "80014\t  C\t          0.3\n",
      "20242\t  B\t          0.4\n",
      "…\t      …\t          …\n",
      "\n",
      "Each record in this csv file is representative of a single item.\n",
      "The item_id field is a unique identifier for the item, while the item_type and cubic_volume_ft fields are attributes of the item.\n",
      "\n"
     ]
    }
   ],
   "source": [
    "with open(\"notes_about_csv_file.txt\") as notes:\n",
    "    print(notes.read())"
   ]
  },
  {
   "cell_type": "code",
   "execution_count": 4,
   "metadata": {},
   "outputs": [],
   "source": [
    "def clean_csv():\n",
    "    import pandas as pd\n",
    "\n",
    "    stock = pd.read_csv(\"app/data/items.csv\")\n",
    "\n",
    "    # Isolate the data to only the three necessary columns:\n",
    "        # 'item_id', 'item_group', 'cubic_volume_ft'\n",
    "    # Drop any NaN rows from the data\n",
    "    # Sort the values based on Cubic volume\n",
    "        # Will sort smallest to largest\n",
    "    # Reset the index due to shuffling from sorting\n",
    "  \n",
    "    return  (stock.loc[:,['item_id', 'item_group', 'cubic_volume_ft']]\n",
    "                  .dropna()\n",
    "                  .sort_values(\"cubic_volume_ft\",\n",
    "                               ascending=True)\n",
    "                  .reset_index(drop=True)\n",
    "            )\n",
    "    \n",
    "    '''\n",
    "    Future implementation will include functionality for: \n",
    "        Handling NaN values beyond just dropping them\n",
    "        Include column testing to ensure data types\n",
    "    '''"
   ]
  },
  {
   "cell_type": "code",
   "execution_count": 5,
   "metadata": {},
   "outputs": [],
   "source": [
    "stock = clean_csv()"
   ]
  },
  {
   "cell_type": "code",
   "execution_count": 6,
   "metadata": {},
   "outputs": [
    {
     "name": "stdout",
     "output_type": "stream",
     "text": [
      "<class 'pandas.core.frame.DataFrame'>\n",
      "RangeIndex: 200 entries, 0 to 199\n",
      "Data columns (total 3 columns):\n",
      "item_id            200 non-null float64\n",
      "item_group         200 non-null object\n",
      "cubic_volume_ft    200 non-null float64\n",
      "dtypes: float64(2), object(1)\n",
      "memory usage: 4.8+ KB\n"
     ]
    }
   ],
   "source": [
    "stock.info()"
   ]
  },
  {
   "cell_type": "code",
   "execution_count": 7,
   "metadata": {},
   "outputs": [
    {
     "data": {
      "text/html": [
       "<div>\n",
       "<style scoped>\n",
       "    .dataframe tbody tr th:only-of-type {\n",
       "        vertical-align: middle;\n",
       "    }\n",
       "\n",
       "    .dataframe tbody tr th {\n",
       "        vertical-align: top;\n",
       "    }\n",
       "\n",
       "    .dataframe thead th {\n",
       "        text-align: right;\n",
       "    }\n",
       "</style>\n",
       "<table border=\"1\" class=\"dataframe\">\n",
       "  <thead>\n",
       "    <tr style=\"text-align: right;\">\n",
       "      <th></th>\n",
       "      <th>item_id</th>\n",
       "      <th>item_group</th>\n",
       "      <th>cubic_volume_ft</th>\n",
       "    </tr>\n",
       "  </thead>\n",
       "  <tbody>\n",
       "    <tr>\n",
       "      <th>0</th>\n",
       "      <td>8178.0</td>\n",
       "      <td>C</td>\n",
       "      <td>0.11</td>\n",
       "    </tr>\n",
       "    <tr>\n",
       "      <th>1</th>\n",
       "      <td>9667.0</td>\n",
       "      <td>B</td>\n",
       "      <td>0.11</td>\n",
       "    </tr>\n",
       "    <tr>\n",
       "      <th>2</th>\n",
       "      <td>4093.0</td>\n",
       "      <td>C</td>\n",
       "      <td>0.12</td>\n",
       "    </tr>\n",
       "    <tr>\n",
       "      <th>3</th>\n",
       "      <td>1367.0</td>\n",
       "      <td>D</td>\n",
       "      <td>0.12</td>\n",
       "    </tr>\n",
       "    <tr>\n",
       "      <th>4</th>\n",
       "      <td>2194.0</td>\n",
       "      <td>C</td>\n",
       "      <td>0.13</td>\n",
       "    </tr>\n",
       "  </tbody>\n",
       "</table>\n",
       "</div>"
      ],
      "text/plain": [
       "   item_id item_group  cubic_volume_ft\n",
       "0   8178.0          C             0.11\n",
       "1   9667.0          B             0.11\n",
       "2   4093.0          C             0.12\n",
       "3   1367.0          D             0.12\n",
       "4   2194.0          C             0.13"
      ]
     },
     "execution_count": 7,
     "metadata": {},
     "output_type": "execute_result"
    }
   ],
   "source": [
    "stock.head()"
   ]
  },
  {
   "cell_type": "code",
   "execution_count": 39,
   "metadata": {},
   "outputs": [
    {
     "data": {
      "text/plain": [
       "[197,\n",
       " 121,\n",
       " 147,\n",
       " 28,\n",
       " 158,\n",
       " 189,\n",
       " 50,\n",
       " 143,\n",
       " 160,\n",
       " 61,\n",
       " 39,\n",
       " 194,\n",
       " 177,\n",
       " 106,\n",
       " 9,\n",
       " 125,\n",
       " 74,\n",
       " 25,\n",
       " 79,\n",
       " 165,\n",
       " 197,\n",
       " 60,\n",
       " 96,\n",
       " 71,\n",
       " 60,\n",
       " 55,\n",
       " 153,\n",
       " 144,\n",
       " 161,\n",
       " 47,\n",
       " 93,\n",
       " 89,\n",
       " 34,\n",
       " 0,\n",
       " 110,\n",
       " 169,\n",
       " 154,\n",
       " 4,\n",
       " 58,\n",
       " 140,\n",
       " 137,\n",
       " 72,\n",
       " 149,\n",
       " 60,\n",
       " 4,\n",
       " 119,\n",
       " 104,\n",
       " 173,\n",
       " 79,\n",
       " 50,\n",
       " 0,\n",
       " 2,\n",
       " 124,\n",
       " 90,\n",
       " 10,\n",
       " 179,\n",
       " 149,\n",
       " 115,\n",
       " 60,\n",
       " 197,\n",
       " 62,\n",
       " 42,\n",
       " 1,\n",
       " 56,\n",
       " 84,\n",
       " 71,\n",
       " 183,\n",
       " 45,\n",
       " 164,\n",
       " 41,\n",
       " 19,\n",
       " 114,\n",
       " 137,\n",
       " 104,\n",
       " 153,\n",
       " 103,\n",
       " 130,\n",
       " 176,\n",
       " 65,\n",
       " 132,\n",
       " 120,\n",
       " 70,\n",
       " 183,\n",
       " 161,\n",
       " 126,\n",
       " 21,\n",
       " 51,\n",
       " 95,\n",
       " 164,\n",
       " 42,\n",
       " 63,\n",
       " 101,\n",
       " 181,\n",
       " 8,\n",
       " 189,\n",
       " 65,\n",
       " 4,\n",
       " 101,\n",
       " 135,\n",
       " 27,\n",
       " 84,\n",
       " 73,\n",
       " 57,\n",
       " 155,\n",
       " 133,\n",
       " 14,\n",
       " 0,\n",
       " 191,\n",
       " 167,\n",
       " 91,\n",
       " 117,\n",
       " 185,\n",
       " 62,\n",
       " 67,\n",
       " 5,\n",
       " 141,\n",
       " 55,\n",
       " 127,\n",
       " 192,\n",
       " 86,\n",
       " 156,\n",
       " 57,\n",
       " 72,\n",
       " 182,\n",
       " 52,\n",
       " 32,\n",
       " 91,\n",
       " 62,\n",
       " 50,\n",
       " 98,\n",
       " 76,\n",
       " 136,\n",
       " 191,\n",
       " 140,\n",
       " 10,\n",
       " 113,\n",
       " 64,\n",
       " 39,\n",
       " 64,\n",
       " 20,\n",
       " 159,\n",
       " 77,\n",
       " 34,\n",
       " 150,\n",
       " 175,\n",
       " 17,\n",
       " 27,\n",
       " 183,\n",
       " 20,\n",
       " 91,\n",
       " 158,\n",
       " 166,\n",
       " 96,\n",
       " 26,\n",
       " 83,\n",
       " 123,\n",
       " 124,\n",
       " 130,\n",
       " 77,\n",
       " 145,\n",
       " 161,\n",
       " 55,\n",
       " 55,\n",
       " 96,\n",
       " 134,\n",
       " 196,\n",
       " 181,\n",
       " 188,\n",
       " 24,\n",
       " 36,\n",
       " 195,\n",
       " 153,\n",
       " 115,\n",
       " 114,\n",
       " 12,\n",
       " 122,\n",
       " 194,\n",
       " 196,\n",
       " 175,\n",
       " 35,\n",
       " 9,\n",
       " 105,\n",
       " 130,\n",
       " 72,\n",
       " 100,\n",
       " 55,\n",
       " 197,\n",
       " 99,\n",
       " 85,\n",
       " 54,\n",
       " 92,\n",
       " 122,\n",
       " 79]"
      ]
     },
     "execution_count": 39,
     "metadata": {},
     "output_type": "execute_result"
    }
   ],
   "source": [
    "def data_generator :\n",
    "    [random.randint(0,199) for x in range(random.randint(175,225))]"
   ]
  },
  {
   "cell_type": "code",
   "execution_count": 31,
   "metadata": {},
   "outputs": [
    {
     "name": "stdout",
     "output_type": "stream",
     "text": [
      "Object `random.randint()` not found.\n"
     ]
    }
   ],
   "source": [
    "random.randint()"
   ]
  },
  {
   "cell_type": "code",
   "execution_count": 8,
   "metadata": {},
   "outputs": [],
   "source": [
    "def generate_shipment_id():\n",
    "    return str(time.clock()) + str(random.randint(0,1000)/1000)"
   ]
  },
  {
   "cell_type": "code",
   "execution_count": 18,
   "metadata": {},
   "outputs": [],
   "source": [
    "def shipments(stock) :\n",
    "    # Create a blank shipment sheet\n",
    "    shipments = pd.DataFrame()\n",
    "\n",
    "    while stock.empty == False :\n",
    "\n",
    "        # Get the largest item by cubic volume and remove from stock\n",
    "        stock, largest_item = stock.drop(stock.tail(1).index, axis=0), stock.tail(1)\n",
    "\n",
    "        bundle = largest_item\n",
    "\n",
    "        # Filter the remaining stock by what CAN still fit in the box\n",
    "        # Grab the index of the item and the item\n",
    "\n",
    "        for index, item in (stock[stock.cubic_volume_ft.values < (1.58 - largest_item.cubic_volume_ft.values)]\n",
    "                            .sort_values(\"cubic_volume_ft\",\n",
    "                                         ascending=False)\n",
    "                           ).iterrows():\n",
    "            \n",
    "            # If there is no item in stock that could fit into the bundle break out of the matrix\n",
    "            if (bundle.cubic_volume_ft.sum() + stock.cubic_volume_ft.values.min()) > 1.58 :\n",
    "                break\n",
    "            \n",
    "            # If it fits it sits\n",
    "            # Add the item to the bundle\n",
    "            # Drop item from the stock\n",
    "            elif (bundle.cubic_volume_ft.sum() + item.cubic_volume_ft) <= 1.58 :\n",
    "                stock, item = (stock.drop(index), item)\n",
    "                bundle = bundle.append(item)\n",
    "\n",
    "        #Issue a shipment id to the bundle\n",
    "        bundle[\"shipment_id\"] = gen_id.generate_shipment_id()\n",
    "\n",
    "        #Add bundle to the shipment file\n",
    "        shipments = shipments.append(bundle)\n",
    "    return shipments"
   ]
  },
  {
   "cell_type": "code",
   "execution_count": 19,
   "metadata": {},
   "outputs": [
    {
     "name": "stderr",
     "output_type": "stream",
     "text": [
      "/home/grimoire/miniconda3/envs/shipment_project/lib/python3.7/site-packages/ipykernel_launcher.py:2: DeprecationWarning: time.clock has been deprecated in Python 3.3 and will be removed from Python 3.8: use time.perf_counter or time.process_time instead\n",
      "  \n"
     ]
    }
   ],
   "source": [
    "shipments = build_shipments(stock)\n",
    "shipments.to_csv(\"shipment_detail\")"
   ]
  },
  {
   "cell_type": "code",
   "execution_count": 20,
   "metadata": {},
   "outputs": [
    {
     "data": {
      "text/html": [
       "<div>\n",
       "<style scoped>\n",
       "    .dataframe tbody tr th:only-of-type {\n",
       "        vertical-align: middle;\n",
       "    }\n",
       "\n",
       "    .dataframe tbody tr th {\n",
       "        vertical-align: top;\n",
       "    }\n",
       "\n",
       "    .dataframe thead th {\n",
       "        text-align: right;\n",
       "    }\n",
       "</style>\n",
       "<table border=\"1\" class=\"dataframe\">\n",
       "  <thead>\n",
       "    <tr style=\"text-align: right;\">\n",
       "      <th></th>\n",
       "      <th>item_id</th>\n",
       "      <th>item_group</th>\n",
       "      <th>cubic_volume_ft</th>\n",
       "      <th>shipment_id</th>\n",
       "    </tr>\n",
       "  </thead>\n",
       "  <tbody>\n",
       "    <tr>\n",
       "      <th>0</th>\n",
       "      <td>4643.0</td>\n",
       "      <td>B</td>\n",
       "      <td>1.30</td>\n",
       "      <td>1.653370.091</td>\n",
       "    </tr>\n",
       "    <tr>\n",
       "      <th>1</th>\n",
       "      <td>8629.0</td>\n",
       "      <td>C</td>\n",
       "      <td>0.27</td>\n",
       "      <td>1.653370.091</td>\n",
       "    </tr>\n",
       "    <tr>\n",
       "      <th>2</th>\n",
       "      <td>6549.0</td>\n",
       "      <td>A</td>\n",
       "      <td>1.29</td>\n",
       "      <td>1.6586930.419</td>\n",
       "    </tr>\n",
       "    <tr>\n",
       "      <th>3</th>\n",
       "      <td>2207.0</td>\n",
       "      <td>B</td>\n",
       "      <td>0.29</td>\n",
       "      <td>1.6586930.419</td>\n",
       "    </tr>\n",
       "    <tr>\n",
       "      <th>4</th>\n",
       "      <td>4235.0</td>\n",
       "      <td>B</td>\n",
       "      <td>1.28</td>\n",
       "      <td>1.6642930.126</td>\n",
       "    </tr>\n",
       "  </tbody>\n",
       "</table>\n",
       "</div>"
      ],
      "text/plain": [
       "   item_id item_group  cubic_volume_ft    shipment_id\n",
       "0   4643.0          B             1.30   1.653370.091\n",
       "1   8629.0          C             0.27   1.653370.091\n",
       "2   6549.0          A             1.29  1.6586930.419\n",
       "3   2207.0          B             0.29  1.6586930.419\n",
       "4   4235.0          B             1.28  1.6642930.126"
      ]
     },
     "execution_count": 20,
     "metadata": {},
     "output_type": "execute_result"
    }
   ],
   "source": [
    "shipments.head(5).reset_index(drop=True)"
   ]
  },
  {
   "cell_type": "code",
   "execution_count": 13,
   "metadata": {},
   "outputs": [],
   "source": [
    "def summary(shipments):\n",
    "    \n",
    "    # Build initial summaries based on items and cubic volume in feet\n",
    "    data = {'Total Items' : len(shipments.item_id),\n",
    "            'Total Cubic Volume in Feet' : shipments.cubic_volume_ft.sum(),\n",
    "            'Total Item Groups' : len(shipments.item_group.unique())}\n",
    "    \n",
    "    # Check for shipment id and build additional shipment summaries\n",
    "    if 'shipment_id' in shipments.keys() :\n",
    "        data['Total Shipments'] = len(shipments.shipment_id.unique())\n",
    "        data['Cubic Volume not Utilized'] = (1.58*len(shipments.shipment_id.unique()) - shipments.cubic_volume_ft.sum())\n",
    "        data['Percent Cubic Volume not Utilized'] = round(((1.58 * len(shipments.shipment_id.unique()) - shipments.cubic_volume_ft.sum()) / \n",
    "                                                     shipments.cubic_volume_ft.sum()) * 100, 2)\n",
    "    # return resulting summary as a DataFrame\n",
    "    return (pd.DataFrame(data, \n",
    "                         index=[0])\n",
    "              .rename({0:'Details'})\n",
    "           )"
   ]
  },
  {
   "cell_type": "code",
   "execution_count": 23,
   "metadata": {},
   "outputs": [],
   "source": [
    "summary = summary(shipments)"
   ]
  },
  {
   "cell_type": "code",
   "execution_count": 28,
   "metadata": {},
   "outputs": [
    {
     "data": {
      "text/plain": [
       "87"
      ]
     },
     "execution_count": 28,
     "metadata": {},
     "output_type": "execute_result"
    }
   ],
   "source": [
    "summary['Total Shipments'][0]"
   ]
  },
  {
   "cell_type": "code",
   "execution_count": 14,
   "metadata": {},
   "outputs": [
    {
     "data": {
      "text/plain": [
       "Index(['0.5230060.968', '0.529990.905', '0.5365350.242', '0.5421470.29',\n",
       "       '0.5476410.169', '0.5532960.382', '0.5594180.394', '0.5649840.887',\n",
       "       '0.5703520.673', '0.5759030.917', '0.5814410.658', '0.5864810.9',\n",
       "       '0.5917960.736', '0.5969520.172', '0.6019540.085', '0.6069830.861',\n",
       "       '0.6120260.542', '0.6170640.365', '0.6223070.34', '0.6275320.533',\n",
       "       '0.6325510.485', '0.6375930.844', '0.6426660.925', '0.6479050.32',\n",
       "       '0.6529380.725', '0.6579960.875', '0.6629980.452', '0.6681350.627',\n",
       "       '0.6740680.986', '0.6796510.215', '0.6853960.778', '0.6910830.028',\n",
       "       '0.6966480.875', '0.7017390.027', '0.7070790.916', '0.7125630.532',\n",
       "       '0.7176640.328', '0.722950.334', '0.7289480.862', '0.7340540.282',\n",
       "       '0.7404270.671', '0.7468650.23', '0.7524120.81', '0.7580030.212',\n",
       "       '0.7637240.478', '0.7691490.193', '0.774540.112', '0.780230.843',\n",
       "       '0.785360.601', '0.7907430.823', '0.7960080.685', '0.8010430.292',\n",
       "       '0.8061390.158', '0.8216960.857', '0.8356390.837', '0.8490750.848',\n",
       "       '0.862250.074', '0.8672890.504', '0.8722990.184', '0.8773110.278',\n",
       "       '0.8823760.327', '0.887410.696', '0.8924580.724', '0.8975190.669',\n",
       "       '0.9025370.458', '0.907550.671', '0.9125650.397', '0.9175920.407',\n",
       "       '0.922610.901', '0.9276650.71', '0.932690.7', '0.9377040.571',\n",
       "       '0.9429830.076', '0.9482440.818', '0.9533220.516', '0.9585010.849',\n",
       "       '0.9637270.004', '0.9687990.513', '0.9738340.2', '0.9884660.805',\n",
       "       '0.9995710.101', '1.0094750.628', '1.0238190.926', '1.041340.95',\n",
       "       '1.0557860.611', '1.0715190.093', '1.0848960.472'],\n",
       "      dtype='object', name='package_id')"
      ]
     },
     "execution_count": 14,
     "metadata": {},
     "output_type": "execute_result"
    }
   ],
   "source": [
    "(shipments.drop(['item_id', 'item_group'],\n",
    "                axis=1)\n",
    "          .groupby('package_id')\n",
    "          .agg(['count','sum'])\n",
    ")[\"cubic_volume_ft\"].index"
   ]
  },
  {
   "cell_type": "code",
   "execution_count": 15,
   "metadata": {},
   "outputs": [
    {
     "data": {
      "text/plain": [
       "1.5577011494252875"
      ]
     },
     "execution_count": 15,
     "metadata": {},
     "output_type": "execute_result"
    }
   ],
   "source": [
    "(shipments.drop(['item_id', 'item_group'],\n",
    "                axis=1)\n",
    "          .groupby('package_id')\n",
    "          .agg(['count','sum'])\n",
    ")['cubic_volume_ft']['sum'].mean()"
   ]
  },
  {
   "cell_type": "markdown",
   "metadata": {},
   "source": [
    "<h3>The stock is currently empty so lets refill our stock. This time lets build boxes based on group"
   ]
  },
  {
   "cell_type": "code",
   "execution_count": 16,
   "metadata": {},
   "outputs": [
    {
     "ename": "NameError",
     "evalue": "name 'stock_clean' is not defined",
     "output_type": "error",
     "traceback": [
      "\u001b[0;31m---------------------------------------------------------------------------\u001b[0m",
      "\u001b[0;31mNameError\u001b[0m                                 Traceback (most recent call last)",
      "\u001b[0;32m<ipython-input-16-79339c14ade2>\u001b[0m in \u001b[0;36m<module>\u001b[0;34m\u001b[0m\n\u001b[0;32m----> 1\u001b[0;31m stock_sorted = (stock_clean.sort_values(\"cubic_volume_ft\",\n\u001b[0m\u001b[1;32m      2\u001b[0m                                        ascending=True)\n\u001b[1;32m      3\u001b[0m                            \u001b[0;34m.\u001b[0m\u001b[0mreset_index\u001b[0m\u001b[0;34m(\u001b[0m\u001b[0mdrop\u001b[0m\u001b[0;34m=\u001b[0m\u001b[0;32mTrue\u001b[0m\u001b[0;34m)\u001b[0m\u001b[0;34m\u001b[0m\u001b[0;34m\u001b[0m\u001b[0m\n\u001b[1;32m      4\u001b[0m                )\n",
      "\u001b[0;31mNameError\u001b[0m: name 'stock_clean' is not defined"
     ]
    }
   ],
   "source": [
    "stock_sorted = (stock_clean.sort_values(\"cubic_volume_ft\",\n",
    "                                       ascending=True)\n",
    "                           .reset_index(drop=True)\n",
    "               )"
   ]
  },
  {
   "cell_type": "code",
   "execution_count": null,
   "metadata": {},
   "outputs": [],
   "source": [
    "def get_groups():\n",
    "    groups = stock_sorted.item_group.unique()\n",
    "    return groups"
   ]
  },
  {
   "cell_type": "code",
   "execution_count": null,
   "metadata": {},
   "outputs": [],
   "source": [
    "shipment_by_group = pd.DataFrame()\n",
    "\n",
    "for group in get_groups():\n",
    "    group_shipment = build_shipments(stock_sorted[stock_sorted.item_group == group])\n",
    "    \n",
    "    group_shipment.to_csv(\"shipment_detail_group_\"+group)\n",
    "    \n",
    "    shipment_by_group = shipment_by_group.append(group_shipment)"
   ]
  },
  {
   "cell_type": "code",
   "execution_count": null,
   "metadata": {},
   "outputs": [],
   "source": [
    "shipment_by_group.head(10)"
   ]
  },
  {
   "cell_type": "code",
   "execution_count": null,
   "metadata": {},
   "outputs": [],
   "source": [
    "len(shipment_by_group.package_id.unique())"
   ]
  },
  {
   "cell_type": "code",
   "execution_count": null,
   "metadata": {},
   "outputs": [],
   "source": [
    "(shipment_by_group.drop(['item_id', 'item_group'],\n",
    "                         axis=1)\n",
    "                   .groupby('package_id')\n",
    "                   .agg(['count','sum'])\n",
    ").head(5)"
   ]
  },
  {
   "cell_type": "code",
   "execution_count": null,
   "metadata": {},
   "outputs": [],
   "source": [
    "(shipment_by_group.drop(['item_id', 'item_group'],\n",
    "                        axis=1)\n",
    "                  .groupby('package_id')\n",
    "                  .agg(['count','sum'])\n",
    ")['cubic_volume_ft']['sum'].mean()"
   ]
  }
 ],
 "metadata": {
  "kernelspec": {
   "display_name": "Python 3",
   "language": "python",
   "name": "python3"
  },
  "language_info": {
   "codemirror_mode": {
    "name": "ipython",
    "version": 3
   },
   "file_extension": ".py",
   "mimetype": "text/x-python",
   "name": "python",
   "nbconvert_exporter": "python",
   "pygments_lexer": "ipython3",
   "version": "3.7.2"
  }
 },
 "nbformat": 4,
 "nbformat_minor": 2
}
