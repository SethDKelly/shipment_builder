{
 "cells": [
  {
   "cell_type": "code",
   "execution_count": 1,
   "metadata": {},
   "outputs": [],
   "source": [
    "import pandas as pd\n",
    "import numpy as np\n",
    "import time\n",
    "import random"
   ]
  },
  {
   "cell_type": "code",
   "execution_count": 2,
   "metadata": {},
   "outputs": [
    {
     "name": "stdout",
     "output_type": "stream",
     "text": [
      "\u001b[0m\u001b[01;34mapp\u001b[0m/                      \u001b[01;34m__pycache__\u001b[0m/             shipment_detail_group_C\r\n",
      "bill_of_lading.py         QUESTION.docx            shipment_detail_group_D\r\n",
      "drop_down_menu.html       shipment_detail          target_interview.ipynb\r\n",
      "items.csv                 shipment_detail_group_A\r\n",
      "notes_about_csv_file.txt  shipment_detail_group_B\r\n"
     ]
    }
   ],
   "source": [
    "%ls"
   ]
  },
  {
   "cell_type": "code",
   "execution_count": 3,
   "metadata": {},
   "outputs": [
    {
     "name": "stdout",
     "output_type": "stream",
     "text": [
      "The items.csv file is structured as such:\n",
      "\n",
      "item_id\t  item_group  cubic_volume_ft\n",
      "10413\t  A\t          0.1\n",
      "10341\t  A\t          0.5\n",
      "10004\t  B\t          1.0\n",
      "80014\t  C\t          0.3\n",
      "20242\t  B\t          0.4\n",
      "…\t      …\t          …\n",
      "\n",
      "Each record in this csv file is representative of a single item.\n",
      "The item_id field is a unique identifier for the item, while the item_type and cubic_volume_ft fields are attributes of the item.\n",
      "\n"
     ]
    }
   ],
   "source": [
    "with open(\"notes_about_csv_file.txt\") as notes:\n",
    "    print(notes.read())"
   ]
  },
  {
   "cell_type": "code",
   "execution_count": 4,
   "metadata": {},
   "outputs": [],
   "source": [
    "def clean_csv():\n",
    "    import pandas as pd\n",
    "\n",
    "    stock = pd.read_csv(\"app/data/items.csv\")\n",
    "\n",
    "    # Isolate the data to only the three necessary columns:\n",
    "        # 'item_id', 'item_group', 'cubic_volume_ft'\n",
    "    # Drop any NaN rows from the data\n",
    "    # Sort the values based on Cubic volume\n",
    "        # Will sort smallest to largest\n",
    "    # Reset the index due to shuffling from sorting\n",
    "  \n",
    "    return  (stock.loc[:,['item_id', 'item_group', 'cubic_volume_ft']]\n",
    "                  .dropna()\n",
    "                  .sort_values(\"cubic_volume_ft\",\n",
    "                               ascending=True)\n",
    "                  .reset_index(drop=True)\n",
    "            )\n",
    "    \n",
    "    '''\n",
    "    Future implementation will include functionality for: \n",
    "        Handling NaN values beyond just dropping them\n",
    "        Include column testing to ensure data types\n",
    "    '''"
   ]
  },
  {
   "cell_type": "code",
   "execution_count": 5,
   "metadata": {},
   "outputs": [],
   "source": [
    "stock = clean_csv()"
   ]
  },
  {
   "cell_type": "code",
   "execution_count": 6,
   "metadata": {},
   "outputs": [
    {
     "name": "stdout",
     "output_type": "stream",
     "text": [
      "<class 'pandas.core.frame.DataFrame'>\n",
      "RangeIndex: 200 entries, 0 to 199\n",
      "Data columns (total 3 columns):\n",
      "item_id            200 non-null float64\n",
      "item_group         200 non-null object\n",
      "cubic_volume_ft    200 non-null float64\n",
      "dtypes: float64(2), object(1)\n",
      "memory usage: 4.8+ KB\n"
     ]
    }
   ],
   "source": [
    "stock.info()"
   ]
  },
  {
   "cell_type": "code",
   "execution_count": 7,
   "metadata": {},
   "outputs": [
    {
     "data": {
      "text/html": [
       "<div>\n",
       "<style scoped>\n",
       "    .dataframe tbody tr th:only-of-type {\n",
       "        vertical-align: middle;\n",
       "    }\n",
       "\n",
       "    .dataframe tbody tr th {\n",
       "        vertical-align: top;\n",
       "    }\n",
       "\n",
       "    .dataframe thead th {\n",
       "        text-align: right;\n",
       "    }\n",
       "</style>\n",
       "<table border=\"1\" class=\"dataframe\">\n",
       "  <thead>\n",
       "    <tr style=\"text-align: right;\">\n",
       "      <th></th>\n",
       "      <th>item_id</th>\n",
       "      <th>item_group</th>\n",
       "      <th>cubic_volume_ft</th>\n",
       "    </tr>\n",
       "  </thead>\n",
       "  <tbody>\n",
       "    <tr>\n",
       "      <th>0</th>\n",
       "      <td>8178.0</td>\n",
       "      <td>C</td>\n",
       "      <td>0.11</td>\n",
       "    </tr>\n",
       "    <tr>\n",
       "      <th>1</th>\n",
       "      <td>9667.0</td>\n",
       "      <td>B</td>\n",
       "      <td>0.11</td>\n",
       "    </tr>\n",
       "    <tr>\n",
       "      <th>2</th>\n",
       "      <td>4093.0</td>\n",
       "      <td>C</td>\n",
       "      <td>0.12</td>\n",
       "    </tr>\n",
       "    <tr>\n",
       "      <th>3</th>\n",
       "      <td>1367.0</td>\n",
       "      <td>D</td>\n",
       "      <td>0.12</td>\n",
       "    </tr>\n",
       "    <tr>\n",
       "      <th>4</th>\n",
       "      <td>2194.0</td>\n",
       "      <td>C</td>\n",
       "      <td>0.13</td>\n",
       "    </tr>\n",
       "  </tbody>\n",
       "</table>\n",
       "</div>"
      ],
      "text/plain": [
       "   item_id item_group  cubic_volume_ft\n",
       "0   8178.0          C             0.11\n",
       "1   9667.0          B             0.11\n",
       "2   4093.0          C             0.12\n",
       "3   1367.0          D             0.12\n",
       "4   2194.0          C             0.13"
      ]
     },
     "execution_count": 7,
     "metadata": {},
     "output_type": "execute_result"
    }
   ],
   "source": [
    "stock.head()"
   ]
  },
  {
   "cell_type": "code",
   "execution_count": 8,
   "metadata": {},
   "outputs": [],
   "source": [
    "def generate_shipment_id():\n",
    "    return str(time.clock()) + str(random.randint(0,1000)/1000)"
   ]
  },
  {
   "cell_type": "code",
   "execution_count": 11,
   "metadata": {},
   "outputs": [],
   "source": [
    "def build_shipments(stock) :\n",
    "    # Create a blank shipment sheet\n",
    "    shipments = pd.DataFrame()\n",
    "\n",
    "    while stock.empty == False :\n",
    "\n",
    "        # Get the largest item by cubic volume and remove from stock\n",
    "        stock, largest_item = stock.drop(stock.tail(1).index, axis=0), stock.tail(1)\n",
    "\n",
    "        bundle = largest_item\n",
    "\n",
    "        # Filter the remaining stock by what CAN still fit in the box\n",
    "        # Grab the index of the item and the item\n",
    "\n",
    "        for index, item in (stock[stock.cubic_volume_ft.values < (1.58 - largest_item.cubic_volume_ft.values)]\n",
    "                            .sort_values(\"cubic_volume_ft\",\n",
    "                                         ascending=False)\n",
    "                           ).iterrows():\n",
    "            \n",
    "            # If there is no item in stock that could fit into the bundle break out of the matrix\n",
    "            if (bundle.cubic_volume_ft.sum() + stock.cubic_volume_ft.values.min()) > 1.58 :\n",
    "                break\n",
    "            \n",
    "            # If it fits it sits\n",
    "            # Add the item to the bundle\n",
    "            # Drop item from the stock\n",
    "            elif (bundle.cubic_volume_ft.sum() + item.cubic_volume_ft) <= 1.58 :\n",
    "                stock, item = (stock.drop(index), item)\n",
    "                bundle = bundle.append(item)\n",
    "\n",
    "        #Issue a shipment id to the bundle\n",
    "        bundle[\"package_id\"] = generate_shipment_id()\n",
    "\n",
    "        #Add bundle to the shipment file\n",
    "        shipments = shipments.append(bundle)\n",
    "    return shipments"
   ]
  },
  {
   "cell_type": "code",
   "execution_count": 12,
   "metadata": {},
   "outputs": [],
   "source": [
    "shipments = build_shipments(stock)\n",
    "shipments.to_csv(\"shipment_detail\")"
   ]
  },
  {
   "cell_type": "code",
   "execution_count": 13,
   "metadata": {},
   "outputs": [
    {
     "data": {
      "text/html": [
       "<div>\n",
       "<style scoped>\n",
       "    .dataframe tbody tr th:only-of-type {\n",
       "        vertical-align: middle;\n",
       "    }\n",
       "\n",
       "    .dataframe tbody tr th {\n",
       "        vertical-align: top;\n",
       "    }\n",
       "\n",
       "    .dataframe thead th {\n",
       "        text-align: right;\n",
       "    }\n",
       "</style>\n",
       "<table border=\"1\" class=\"dataframe\">\n",
       "  <thead>\n",
       "    <tr style=\"text-align: right;\">\n",
       "      <th></th>\n",
       "      <th>item_id</th>\n",
       "      <th>item_group</th>\n",
       "      <th>cubic_volume_ft</th>\n",
       "      <th>package_id</th>\n",
       "    </tr>\n",
       "  </thead>\n",
       "  <tbody>\n",
       "    <tr>\n",
       "      <th>0</th>\n",
       "      <td>4643.0</td>\n",
       "      <td>B</td>\n",
       "      <td>1.30</td>\n",
       "      <td>1.1354750.963</td>\n",
       "    </tr>\n",
       "    <tr>\n",
       "      <th>1</th>\n",
       "      <td>8629.0</td>\n",
       "      <td>C</td>\n",
       "      <td>0.27</td>\n",
       "      <td>1.1354750.963</td>\n",
       "    </tr>\n",
       "    <tr>\n",
       "      <th>2</th>\n",
       "      <td>6549.0</td>\n",
       "      <td>A</td>\n",
       "      <td>1.29</td>\n",
       "      <td>1.1462560.397</td>\n",
       "    </tr>\n",
       "    <tr>\n",
       "      <th>3</th>\n",
       "      <td>2207.0</td>\n",
       "      <td>B</td>\n",
       "      <td>0.29</td>\n",
       "      <td>1.1462560.397</td>\n",
       "    </tr>\n",
       "    <tr>\n",
       "      <th>4</th>\n",
       "      <td>4235.0</td>\n",
       "      <td>B</td>\n",
       "      <td>1.28</td>\n",
       "      <td>1.1535720.756</td>\n",
       "    </tr>\n",
       "  </tbody>\n",
       "</table>\n",
       "</div>"
      ],
      "text/plain": [
       "   item_id item_group  cubic_volume_ft     package_id\n",
       "0   4643.0          B             1.30  1.1354750.963\n",
       "1   8629.0          C             0.27  1.1354750.963\n",
       "2   6549.0          A             1.29  1.1462560.397\n",
       "3   2207.0          B             0.29  1.1462560.397\n",
       "4   4235.0          B             1.28  1.1535720.756"
      ]
     },
     "execution_count": 13,
     "metadata": {},
     "output_type": "execute_result"
    }
   ],
   "source": [
    "shipments.head(5).reset_index(drop=True)"
   ]
  },
  {
   "cell_type": "code",
   "execution_count": 14,
   "metadata": {},
   "outputs": [
    {
     "data": {
      "text/plain": [
       "87"
      ]
     },
     "execution_count": 14,
     "metadata": {},
     "output_type": "execute_result"
    }
   ],
   "source": [
    "len(shipments.package_id.unique())"
   ]
  },
  {
   "cell_type": "code",
   "execution_count": 15,
   "metadata": {},
   "outputs": [
    {
     "data": {
      "text/html": [
       "<div>\n",
       "<style scoped>\n",
       "    .dataframe tbody tr th:only-of-type {\n",
       "        vertical-align: middle;\n",
       "    }\n",
       "\n",
       "    .dataframe tbody tr th {\n",
       "        vertical-align: top;\n",
       "    }\n",
       "\n",
       "    .dataframe thead tr th {\n",
       "        text-align: left;\n",
       "    }\n",
       "\n",
       "    .dataframe thead tr:last-of-type th {\n",
       "        text-align: right;\n",
       "    }\n",
       "</style>\n",
       "<table border=\"1\" class=\"dataframe\">\n",
       "  <thead>\n",
       "    <tr>\n",
       "      <th></th>\n",
       "      <th colspan=\"2\" halign=\"left\">cubic_volume_ft</th>\n",
       "    </tr>\n",
       "    <tr>\n",
       "      <th></th>\n",
       "      <th>count</th>\n",
       "      <th>sum</th>\n",
       "    </tr>\n",
       "    <tr>\n",
       "      <th>package_id</th>\n",
       "      <th></th>\n",
       "      <th></th>\n",
       "    </tr>\n",
       "  </thead>\n",
       "  <tbody>\n",
       "    <tr>\n",
       "      <th>1.1354750.963</th>\n",
       "      <td>2</td>\n",
       "      <td>1.57</td>\n",
       "    </tr>\n",
       "    <tr>\n",
       "      <th>1.1462560.397</th>\n",
       "      <td>2</td>\n",
       "      <td>1.58</td>\n",
       "    </tr>\n",
       "    <tr>\n",
       "      <th>1.1535720.756</th>\n",
       "      <td>2</td>\n",
       "      <td>1.58</td>\n",
       "    </tr>\n",
       "    <tr>\n",
       "      <th>1.1594410.02</th>\n",
       "      <td>2</td>\n",
       "      <td>1.57</td>\n",
       "    </tr>\n",
       "    <tr>\n",
       "      <th>1.1649470.685</th>\n",
       "      <td>2</td>\n",
       "      <td>1.58</td>\n",
       "    </tr>\n",
       "  </tbody>\n",
       "</table>\n",
       "</div>"
      ],
      "text/plain": [
       "              cubic_volume_ft      \n",
       "                        count   sum\n",
       "package_id                         \n",
       "1.1354750.963               2  1.57\n",
       "1.1462560.397               2  1.58\n",
       "1.1535720.756               2  1.58\n",
       "1.1594410.02                2  1.57\n",
       "1.1649470.685               2  1.58"
      ]
     },
     "execution_count": 15,
     "metadata": {},
     "output_type": "execute_result"
    }
   ],
   "source": [
    "(shipments.drop(['item_id', 'item_group'],\n",
    "                axis=1)\n",
    "          .groupby('package_id')\n",
    "          .agg(['count','sum'])\n",
    ").head(5)"
   ]
  },
  {
   "cell_type": "code",
   "execution_count": 18,
   "metadata": {},
   "outputs": [
    {
     "data": {
      "text/plain": [
       "Index(['1.1354750.963', '1.1462560.397', '1.1535720.756', '1.1594410.02',\n",
       "       '1.1649470.685', '1.1707560.937', '1.1760010.66', '1.1812170.893',\n",
       "       '1.186740.662', '1.192010.564', '1.1972620.002', '1.2024810.863',\n",
       "       '1.2078240.744', '1.2130990.271', '1.2186220.249', '1.2244230.293',\n",
       "       '1.2301410.572', '1.235860.467', '1.241540.965', '1.2473590.589',\n",
       "       '1.2530960.459', '1.2587520.112', '1.2644250.027', '1.2700810.234',\n",
       "       '1.2755660.276', '1.2807450.94', '1.2859720.651', '1.2911670.928',\n",
       "       '1.2964040.386', '1.3016280.922', '1.3069790.546', '1.3124770.8',\n",
       "       '1.3176320.804', '1.3227640.985', '1.3279150.853', '1.3332610.662',\n",
       "       '1.3384290.069', '1.3439270.272', '1.3490990.597', '1.3543020.565',\n",
       "       '1.3594560.568', '1.3646740.401', '1.3698360.603', '1.375130.201',\n",
       "       '1.3803180.171', '1.3855860.301', '1.3907640.694', '1.396140.537',\n",
       "       '1.4012840.153', '1.406630.366', '1.4118230.956', '1.4170410.503',\n",
       "       '1.4222780.214', '1.4374090.601', '1.4509970.812', '1.4650190.329',\n",
       "       '1.4783630.953', '1.4836140.859', '1.4887760.909', '1.4940440.642',\n",
       "       '1.499330.953', '1.5049980.603', '1.5101810.79', '1.5153520.463',\n",
       "       '1.5204630.399', '1.5257630.993', '1.5309810.571', '1.5364740.514',\n",
       "       '1.5416190.803', '1.5469140.12', '1.5520390.898', '1.5574420.152',\n",
       "       '1.5627870.901', '1.5679480.837', '1.5734590.215', '1.5787170.534',\n",
       "       '1.5839910.185', '1.5896660.037', '1.5951610.645', '1.609810.626',\n",
       "       '1.621250.823', '1.6317390.626', '1.647270.956', '1.6660310.02',\n",
       "       '1.681450.617', '1.6990940.438', '1.7140190.644'],\n",
       "      dtype='object', name='package_id')"
      ]
     },
     "execution_count": 18,
     "metadata": {},
     "output_type": "execute_result"
    }
   ],
   "source": [
    "(shipments.drop(['item_id', 'item_group'],\n",
    "                axis=1)\n",
    "          .groupby('package_id')\n",
    "          .agg(['count','sum'])\n",
    ")[\"cubic_volume_ft\"].index"
   ]
  },
  {
   "cell_type": "code",
   "execution_count": null,
   "metadata": {},
   "outputs": [],
   "source": [
    "(shipments.drop(['item_id', 'item_group'],\n",
    "                axis=1)\n",
    "          .groupby('package_id')\n",
    "          .agg(['count','sum'])\n",
    ")['cubic_volume_ft']['sum'].mean()"
   ]
  },
  {
   "cell_type": "markdown",
   "metadata": {},
   "source": [
    "<h3>The stock is currently empty so lets refill our stock. This time lets build boxes based on group"
   ]
  },
  {
   "cell_type": "code",
   "execution_count": null,
   "metadata": {},
   "outputs": [],
   "source": [
    "stock_sorted = (stock_clean.sort_values(\"cubic_volume_ft\",\n",
    "                                       ascending=True)\n",
    "                           .reset_index(drop=True)\n",
    "               )"
   ]
  },
  {
   "cell_type": "code",
   "execution_count": null,
   "metadata": {},
   "outputs": [],
   "source": [
    "def get_groups():\n",
    "    groups = stock_sorted.item_group.unique()\n",
    "    return groups"
   ]
  },
  {
   "cell_type": "code",
   "execution_count": null,
   "metadata": {},
   "outputs": [],
   "source": [
    "shipment_by_group = pd.DataFrame()\n",
    "\n",
    "for group in get_groups():\n",
    "    group_shipment = build_shipments(stock_sorted[stock_sorted.item_group == group])\n",
    "    \n",
    "    group_shipment.to_csv(\"shipment_detail_group_\"+group)\n",
    "    \n",
    "    shipment_by_group = shipment_by_group.append(group_shipment)"
   ]
  },
  {
   "cell_type": "code",
   "execution_count": null,
   "metadata": {},
   "outputs": [],
   "source": [
    "shipment_by_group.head(10)"
   ]
  },
  {
   "cell_type": "code",
   "execution_count": null,
   "metadata": {},
   "outputs": [],
   "source": [
    "len(shipment_by_group.package_id.unique())"
   ]
  },
  {
   "cell_type": "code",
   "execution_count": null,
   "metadata": {},
   "outputs": [],
   "source": [
    "(shipment_by_group.drop(['item_id', 'item_group'],\n",
    "                         axis=1)\n",
    "                   .groupby('package_id')\n",
    "                   .agg(['count','sum'])\n",
    ").head(5)"
   ]
  },
  {
   "cell_type": "code",
   "execution_count": null,
   "metadata": {},
   "outputs": [],
   "source": [
    "(shipment_by_group.drop(['item_id', 'item_group'],\n",
    "                        axis=1)\n",
    "                  .groupby('package_id')\n",
    "                  .agg(['count','sum'])\n",
    ")['cubic_volume_ft']['sum'].mean()"
   ]
  }
 ],
 "metadata": {
  "kernelspec": {
   "display_name": "Python 3",
   "language": "python",
   "name": "python3"
  },
  "language_info": {
   "codemirror_mode": {
    "name": "ipython",
    "version": 3
   },
   "file_extension": ".py",
   "mimetype": "text/x-python",
   "name": "python",
   "nbconvert_exporter": "python",
   "pygments_lexer": "ipython3",
   "version": "3.6.2"
  }
 },
 "nbformat": 4,
 "nbformat_minor": 2
}
