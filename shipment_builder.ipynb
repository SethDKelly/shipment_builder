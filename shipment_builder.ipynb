{
 "cells": [
  {
   "cell_type": "code",
   "execution_count": 1,
   "metadata": {},
   "outputs": [],
   "source": [
    "import pandas as pd\n",
    "import numpy as np\n",
    "import datetime\n",
    "import random"
   ]
  },
  {
   "cell_type": "code",
   "execution_count": 2,
   "metadata": {},
   "outputs": [
    {
     "name": "stdout",
     "output_type": "stream",
     "text": [
      "\u001b[0m\u001b[01;34mapp\u001b[0m/               items.csv                 README.md\r\n",
      "bill_of_lading.py  notes_about_csv_file.txt  requirements.txt\r\n",
      "config.py          \u001b[01;34m__pycache__\u001b[0m/              shipment_builder.ipynb\r\n",
      "\u001b[01;34minstance\u001b[0m/          QUESTION.docx             shipment_requirements.yml\r\n"
     ]
    }
   ],
   "source": [
    "%ls"
   ]
  },
  {
   "cell_type": "code",
   "execution_count": 3,
   "metadata": {},
   "outputs": [
    {
     "name": "stdout",
     "output_type": "stream",
     "text": [
      "The items.csv file is structured as such:\n",
      "\n",
      "item_id\t  item_group  cubic_volume_ft\n",
      "10413\t  A\t          0.1\n",
      "10341\t  A\t          0.5\n",
      "10004\t  B\t          1.0\n",
      "80014\t  C\t          0.3\n",
      "20242\t  B\t          0.4\n",
      "…\t      …\t          …\n",
      "\n",
      "Each record in this csv file is representative of a single item.\n",
      "The item_id field is a unique identifier for the item, while the item_type and cubic_volume_ft fields are attributes of the item.\n",
      "\n"
     ]
    }
   ],
   "source": [
    "with open(\"notes_about_csv_file.txt\") as notes:\n",
    "    print(notes.read())"
   ]
  },
  {
   "cell_type": "code",
   "execution_count": 4,
   "metadata": {},
   "outputs": [],
   "source": [
    "def clean_csv():\n",
    "    import pandas as pd\n",
    "\n",
    "    stock = pd.read_csv(\"app/data/items.csv\")\n",
    "\n",
    "    # Isolate the data to only the three necessary columns:\n",
    "        # 'item_id', 'item_group', 'cubic_volume_ft'\n",
    "    # Drop any NaN rows from the data\n",
    "  \n",
    "    return  (stock.loc[:,['item_id', 'item_group', 'cubic_volume_ft']]\n",
    "                  .dropna()\n",
    "            )\n",
    "    \n",
    "    '''\n",
    "    Future implementation will include functionality for: \n",
    "        Handling NaN values beyond just dropping them\n",
    "        Include column testing to ensure data types\n",
    "    '''"
   ]
  },
  {
   "cell_type": "code",
   "execution_count": 38,
   "metadata": {},
   "outputs": [],
   "source": [
    "items = clean_csv().sort_values(\"cubic_volume_ft\",\n",
    "                                ascending=True)"
   ]
  },
  {
   "cell_type": "code",
   "execution_count": 6,
   "metadata": {},
   "outputs": [
    {
     "name": "stdout",
     "output_type": "stream",
     "text": [
      "<class 'pandas.core.frame.DataFrame'>\n",
      "Int64Index: 200 entries, 81 to 161\n",
      "Data columns (total 3 columns):\n",
      "item_id            200 non-null float64\n",
      "item_group         200 non-null object\n",
      "cubic_volume_ft    200 non-null float64\n",
      "dtypes: float64(2), object(1)\n",
      "memory usage: 6.2+ KB\n"
     ]
    }
   ],
   "source": [
    "items.info()"
   ]
  },
  {
   "cell_type": "code",
   "execution_count": 7,
   "metadata": {},
   "outputs": [
    {
     "data": {
      "text/html": [
       "<div>\n",
       "<style scoped>\n",
       "    .dataframe tbody tr th:only-of-type {\n",
       "        vertical-align: middle;\n",
       "    }\n",
       "\n",
       "    .dataframe tbody tr th {\n",
       "        vertical-align: top;\n",
       "    }\n",
       "\n",
       "    .dataframe thead th {\n",
       "        text-align: right;\n",
       "    }\n",
       "</style>\n",
       "<table border=\"1\" class=\"dataframe\">\n",
       "  <thead>\n",
       "    <tr style=\"text-align: right;\">\n",
       "      <th></th>\n",
       "      <th>item_id</th>\n",
       "      <th>item_group</th>\n",
       "      <th>cubic_volume_ft</th>\n",
       "    </tr>\n",
       "  </thead>\n",
       "  <tbody>\n",
       "    <tr>\n",
       "      <th>81</th>\n",
       "      <td>4643.0</td>\n",
       "      <td>B</td>\n",
       "      <td>1.30</td>\n",
       "    </tr>\n",
       "    <tr>\n",
       "      <th>189</th>\n",
       "      <td>6549.0</td>\n",
       "      <td>A</td>\n",
       "      <td>1.29</td>\n",
       "    </tr>\n",
       "    <tr>\n",
       "      <th>6</th>\n",
       "      <td>4235.0</td>\n",
       "      <td>B</td>\n",
       "      <td>1.28</td>\n",
       "    </tr>\n",
       "    <tr>\n",
       "      <th>18</th>\n",
       "      <td>6511.0</td>\n",
       "      <td>C</td>\n",
       "      <td>1.28</td>\n",
       "    </tr>\n",
       "    <tr>\n",
       "      <th>74</th>\n",
       "      <td>4024.0</td>\n",
       "      <td>B</td>\n",
       "      <td>1.27</td>\n",
       "    </tr>\n",
       "  </tbody>\n",
       "</table>\n",
       "</div>"
      ],
      "text/plain": [
       "     item_id item_group  cubic_volume_ft\n",
       "81    4643.0          B             1.30\n",
       "189   6549.0          A             1.29\n",
       "6     4235.0          B             1.28\n",
       "18    6511.0          C             1.28\n",
       "74    4024.0          B             1.27"
      ]
     },
     "execution_count": 7,
     "metadata": {},
     "output_type": "execute_result"
    }
   ],
   "source": [
    "items.head()"
   ]
  },
  {
   "cell_type": "code",
   "execution_count": 8,
   "metadata": {},
   "outputs": [],
   "source": [
    "def dataframe_generator():\n",
    "    import random\n",
    "    import pandas as pd\n",
    "    return (pd.DataFrame(data = {'key': [random.randint(0,199) for x in range(random.randint(175,225))]})\n",
    "              .merge(clean_csv(), \n",
    "                     left_on='key', \n",
    "                     right_index=True)\n",
    "              .drop('key',\n",
    "                    axis = 1)\n",
    "              .reset_index(drop=True)\n",
    "           )"
   ]
  },
  {
   "cell_type": "code",
   "execution_count": 171,
   "metadata": {},
   "outputs": [],
   "source": [
    "def csv_generator():    \n",
    "    # Builds anywhere from 150-250 rows of data that matches what comes from items.csv\n",
    "    # Creates random 'keys' that it merges with the stock data based on index\n",
    "    # returns the data as .csv's\n",
    "    \n",
    "    import random\n",
    "    import glob\n",
    "    import re\n",
    "    \n",
    "    count = sorted([int(re.sub(\"[^0-9]\", \"\", files)) for files in glob.glob(\"app/data/tmp/*.csv\")])[-1] + 1\n",
    "    if not count: \n",
    "        count = '1'        \n",
    "    \n",
    "    return (pd.DataFrame(data = {'key': [random.randint(0,199) for x in range(random.randint(150,250))]})\n",
    "              .merge(clean_csv(), \n",
    "                     left_on='key', \n",
    "                     right_index=True)\n",
    "              .drop('key',\n",
    "                    axis = 1)\n",
    "              .reset_index(drop=True)\n",
    "           ).to_csv(\"app/data/tmp/items\"+str(count)+\".csv\", \n",
    "                    index=False)"
   ]
  },
  {
   "cell_type": "code",
   "execution_count": 172,
   "metadata": {},
   "outputs": [],
   "source": [
    "csv_generator()"
   ]
  },
  {
   "cell_type": "code",
   "execution_count": 9,
   "metadata": {},
   "outputs": [],
   "source": [
    "def stock():\n",
    "    import glob\n",
    "    \n",
    "    # It's nice to assume clean data, and to be right for once\n",
    "    \n",
    "    stock = pd.DataFrame()\n",
    "    for csv in glob.glob(\"app/data/tmp/*.csv\"):\n",
    "        stock = stock.append(pd.read_csv(csv))\n",
    "    \n",
    "    return stock.reset_index(drop=True).sort_values('cubic_volume_ft')"
   ]
  },
  {
   "cell_type": "code",
   "execution_count": 10,
   "metadata": {},
   "outputs": [],
   "source": [
    "def generate_shipment_id():\n",
    "    import re\n",
    "    return int(re.sub(\"[^0-9]\", \"\", str(datetime.datetime.today()))[:17])"
   ]
  },
  {
   "cell_type": "code",
   "execution_count": 46,
   "metadata": {},
   "outputs": [],
   "source": [
    "def shipments(stock) :\n",
    "    # Create a blank shipment sheet\n",
    "    shipments = pd.DataFrame()\n",
    "    \n",
    "    while stock.empty == False :\n",
    "\n",
    "        # Get the largest item by cubic volume and remove from stock\n",
    "        bundle, stock = stock.tail(1), stock.drop(stock.tail(1).index, axis=0)\n",
    "\n",
    "        # Filter the remaining stock by what CAN still fit in the box\n",
    "        # Grab the index of the item and the item\n",
    "\n",
    "        for index, item in (stock[stock.cubic_volume_ft.values < (1.58 - bundle.cubic_volume_ft.values)]\n",
    "                            .sort_values(\"cubic_volume_ft\",\n",
    "                                         ascending=False)\n",
    "                           ).iterrows():\n",
    "            \n",
    "            # If there is no item in stock that could fit into the bundle break out of the matrix\n",
    "            if (bundle.cubic_volume_ft.sum() + stock.cubic_volume_ft.values.min()) > 1.58 :\n",
    "                break\n",
    "                \n",
    "            # If it fits it sits\n",
    "            # Add the item to the bundle\n",
    "            # Drop item from the stock\n",
    "            elif (bundle.cubic_volume_ft.sum() + item.cubic_volume_ft) <= 1.58 :\n",
    "                item, stock = (item, stock.drop(index))\n",
    "                bundle = bundle.append(item)\n",
    "                \n",
    "        #Issue a shipment id to the bundle\n",
    "        bundle[\"shipment_id\"] = generate_shipment_id()\n",
    "\n",
    "        #Add bundle to the shipment file\n",
    "        shipments = shipments.append(bundle)\n",
    "    return shipments"
   ]
  },
  {
   "cell_type": "code",
   "execution_count": null,
   "metadata": {},
   "outputs": [],
   "source": [
    "def shipment_dictionary(stock) :\n",
    "    # Create a blank shipment sheet\n",
    "    shipments = {'shipment_id' : {}}\n",
    "    \n",
    "    while stock.empty == False :\n",
    "\n",
    "        # Get the largest item by cubic volume and remove from stock\n",
    "        bundle, stock = stock.tail(1), stock.drop(stock.tail(1).index, axis=0)\n",
    "\n",
    "        # Filter the remaining stock by what CAN still fit in the box\n",
    "        # Grab the index of the item and the item\n",
    "\n",
    "        for index, item in (stock[stock.cubic_volume_ft.values < (1.58 - bundle.cubic_volume_ft.values)]\n",
    "                           ).iterrows():\n",
    "            \n",
    "            # If there is no item in stock that could fit into the bundle break out of the matrix\n",
    "            if (bundle.cubic_volume_ft.sum() + stock.cubic_volume_ft.values.min()) > 1.58 :\n",
    "                break\n",
    "                \n",
    "            # If it fits it sits\n",
    "            # Add the item to the bundle\n",
    "            # Drop item from the stock\n",
    "            elif (bundle.cubic_volume_ft.sum() + item.cubic_volume_ft) <= 1.58 :\n",
    "                item, stock = (item, stock.drop(index))\n",
    "                bundle = bundle.append(item)\n",
    "                \n",
    "        #Issue a shipment id to the bundle\n",
    "        bundle[\"shipment_id\"] = generate_shipment_id()\n",
    "\n",
    "        #Add bundle to the shipment file\n",
    "        shipments = shipments.append(bundle)\n",
    "    return shipments.reset_index(drop=True)"
   ]
  },
  {
   "cell_type": "code",
   "execution_count": 40,
   "metadata": {},
   "outputs": [
    {
     "data": {
      "text/html": [
       "<div>\n",
       "<style scoped>\n",
       "    .dataframe tbody tr th:only-of-type {\n",
       "        vertical-align: middle;\n",
       "    }\n",
       "\n",
       "    .dataframe tbody tr th {\n",
       "        vertical-align: top;\n",
       "    }\n",
       "\n",
       "    .dataframe thead th {\n",
       "        text-align: right;\n",
       "    }\n",
       "</style>\n",
       "<table border=\"1\" class=\"dataframe\">\n",
       "  <thead>\n",
       "    <tr style=\"text-align: right;\">\n",
       "      <th></th>\n",
       "      <th>item_id</th>\n",
       "      <th>item_group</th>\n",
       "      <th>cubic_volume_ft</th>\n",
       "    </tr>\n",
       "  </thead>\n",
       "  <tbody>\n",
       "    <tr>\n",
       "      <th>161</th>\n",
       "      <td>8178.0</td>\n",
       "      <td>C</td>\n",
       "      <td>0.11</td>\n",
       "    </tr>\n",
       "    <tr>\n",
       "      <th>179</th>\n",
       "      <td>9667.0</td>\n",
       "      <td>B</td>\n",
       "      <td>0.11</td>\n",
       "    </tr>\n",
       "    <tr>\n",
       "      <th>163</th>\n",
       "      <td>4093.0</td>\n",
       "      <td>C</td>\n",
       "      <td>0.12</td>\n",
       "    </tr>\n",
       "    <tr>\n",
       "      <th>135</th>\n",
       "      <td>1367.0</td>\n",
       "      <td>D</td>\n",
       "      <td>0.12</td>\n",
       "    </tr>\n",
       "    <tr>\n",
       "      <th>56</th>\n",
       "      <td>2194.0</td>\n",
       "      <td>C</td>\n",
       "      <td>0.13</td>\n",
       "    </tr>\n",
       "  </tbody>\n",
       "</table>\n",
       "</div>"
      ],
      "text/plain": [
       "     item_id item_group  cubic_volume_ft\n",
       "161   8178.0          C             0.11\n",
       "179   9667.0          B             0.11\n",
       "163   4093.0          C             0.12\n",
       "135   1367.0          D             0.12\n",
       "56    2194.0          C             0.13"
      ]
     },
     "execution_count": 40,
     "metadata": {},
     "output_type": "execute_result"
    }
   ],
   "source": [
    "items.head()"
   ]
  },
  {
   "cell_type": "code",
   "execution_count": 109,
   "metadata": {},
   "outputs": [
    {
     "name": "stdout",
     "output_type": "stream",
     "text": [
      "1.74 s ± 58.2 ms per loop (mean ± std. dev. of 7 runs, 1 loop each)\n"
     ]
    }
   ],
   "source": [
    "%timeit shipment = shipments(items)"
   ]
  },
  {
   "cell_type": "code",
   "execution_count": 96,
   "metadata": {},
   "outputs": [
    {
     "data": {
      "text/html": [
       "<div>\n",
       "<style scoped>\n",
       "    .dataframe tbody tr th:only-of-type {\n",
       "        vertical-align: middle;\n",
       "    }\n",
       "\n",
       "    .dataframe tbody tr th {\n",
       "        vertical-align: top;\n",
       "    }\n",
       "\n",
       "    .dataframe thead th {\n",
       "        text-align: right;\n",
       "    }\n",
       "</style>\n",
       "<table border=\"1\" class=\"dataframe\">\n",
       "  <thead>\n",
       "    <tr style=\"text-align: right;\">\n",
       "      <th></th>\n",
       "      <th>item_id</th>\n",
       "      <th>item_group</th>\n",
       "      <th>cubic_volume_ft</th>\n",
       "    </tr>\n",
       "    <tr>\n",
       "      <th>shipment_id</th>\n",
       "      <th></th>\n",
       "      <th></th>\n",
       "      <th></th>\n",
       "    </tr>\n",
       "  </thead>\n",
       "  <tbody>\n",
       "    <tr>\n",
       "      <th>20190303152004098</th>\n",
       "      <td>4643.0</td>\n",
       "      <td>B</td>\n",
       "      <td>1.30</td>\n",
       "    </tr>\n",
       "    <tr>\n",
       "      <th>20190303152004098</th>\n",
       "      <td>8629.0</td>\n",
       "      <td>C</td>\n",
       "      <td>0.27</td>\n",
       "    </tr>\n",
       "    <tr>\n",
       "      <th>20190303152004118</th>\n",
       "      <td>6549.0</td>\n",
       "      <td>A</td>\n",
       "      <td>1.29</td>\n",
       "    </tr>\n",
       "    <tr>\n",
       "      <th>20190303152004118</th>\n",
       "      <td>2207.0</td>\n",
       "      <td>B</td>\n",
       "      <td>0.29</td>\n",
       "    </tr>\n",
       "    <tr>\n",
       "      <th>20190303152004143</th>\n",
       "      <td>4235.0</td>\n",
       "      <td>B</td>\n",
       "      <td>1.28</td>\n",
       "    </tr>\n",
       "  </tbody>\n",
       "</table>\n",
       "</div>"
      ],
      "text/plain": [
       "                   item_id item_group  cubic_volume_ft\n",
       "shipment_id                                           \n",
       "20190303152004098   4643.0          B             1.30\n",
       "20190303152004098   8629.0          C             0.27\n",
       "20190303152004118   6549.0          A             1.29\n",
       "20190303152004118   2207.0          B             0.29\n",
       "20190303152004143   4235.0          B             1.28"
      ]
     },
     "execution_count": 96,
     "metadata": {},
     "output_type": "execute_result"
    }
   ],
   "source": [
    "shipment.head().set_index('shipment_id')"
   ]
  },
  {
   "cell_type": "code",
   "execution_count": 105,
   "metadata": {},
   "outputs": [
    {
     "data": {
      "text/plain": [
       "{'item_id': {20190303152004098: 8629.0},\n",
       " 'item_group': {20190303152004098: 'C'},\n",
       " 'cubic_volume_ft': {20190303152004098: 0.27}}"
      ]
     },
     "execution_count": 105,
     "metadata": {},
     "output_type": "execute_result"
    }
   ],
   "source": [
    "shipment.head(2).set_index('shipment_id').to_dict()"
   ]
  },
  {
   "cell_type": "code",
   "execution_count": 104,
   "metadata": {},
   "outputs": [
    {
     "data": {
      "text/plain": [
       "{'item_id': {20190303152004098: 4643.0},\n",
       " 'item_group': {20190303152004098: 'B'},\n",
       " 'cubic_volume_ft': {20190303152004098: 1.3}}"
      ]
     },
     "execution_count": 104,
     "metadata": {},
     "output_type": "execute_result"
    }
   ],
   "source": [
    "shipment.head(1).set_index('shipment_id').to_dict()"
   ]
  },
  {
   "cell_type": "code",
   "execution_count": 106,
   "metadata": {},
   "outputs": [
    {
     "data": {
      "text/plain": [
       "{'item_id': {20190303152004098: 8629.0},\n",
       " 'item_group': {20190303152004098: 'C'},\n",
       " 'cubic_volume_ft': {20190303152004098: 0.27}}"
      ]
     },
     "execution_count": 106,
     "metadata": {},
     "output_type": "execute_result"
    }
   ],
   "source": [
    "{'item_id': {20190303152004098: 8629.0},\n",
    " 'item_group': {20190303152004098: 'C'},\n",
    " 'cubic_volume_ft': {20190303152004098: 0.27}}"
   ]
  },
  {
   "cell_type": "code",
   "execution_count": 107,
   "metadata": {},
   "outputs": [
    {
     "data": {
      "text/plain": [
       "{'item_id': {20190303152004098: 8629.0},\n",
       " 'item_group': {20190303152004098: 'C'},\n",
       " 'cubic_volume_ft': {20190303152004098: 0.27}}"
      ]
     },
     "execution_count": 107,
     "metadata": {},
     "output_type": "execute_result"
    }
   ],
   "source": [
    "{'item_id': {20190303152004098: 4643.0},\n",
    " 'item_group': {20190303152004098: 'B'},\n",
    " 'cubic_volume_ft': {20190303152004098: 1.3}}"
   ]
  },
  {
   "cell_type": "code",
   "execution_count": 89,
   "metadata": {},
   "outputs": [
    {
     "data": {
      "text/html": [
       "<div>\n",
       "<style scoped>\n",
       "    .dataframe tbody tr th:only-of-type {\n",
       "        vertical-align: middle;\n",
       "    }\n",
       "\n",
       "    .dataframe tbody tr th {\n",
       "        vertical-align: top;\n",
       "    }\n",
       "\n",
       "    .dataframe thead th {\n",
       "        text-align: right;\n",
       "    }\n",
       "</style>\n",
       "<table border=\"1\" class=\"dataframe\">\n",
       "  <thead>\n",
       "    <tr style=\"text-align: right;\">\n",
       "      <th></th>\n",
       "      <th>cubic_volume_ft</th>\n",
       "      <th>group</th>\n",
       "      <th>item_id</th>\n",
       "    </tr>\n",
       "  </thead>\n",
       "  <tbody>\n",
       "    <tr>\n",
       "      <th>20190303152004098</th>\n",
       "      <td>0.11</td>\n",
       "      <td>C</td>\n",
       "      <td>8178</td>\n",
       "    </tr>\n",
       "  </tbody>\n",
       "</table>\n",
       "</div>"
      ],
      "text/plain": [
       "                  cubic_volume_ft group item_id\n",
       "20190303152004098            0.11     C    8178"
      ]
     },
     "execution_count": 89,
     "metadata": {},
     "output_type": "execute_result"
    }
   ],
   "source": [
    "pd.DataFrame(index).T"
   ]
  },
  {
   "cell_type": "code",
   "execution_count": null,
   "metadata": {},
   "outputs": [],
   "source": [
    "def summary(shipments):\n",
    "    \n",
    "    # Build initial summaries based on items and cubic volume in feet\n",
    "    data = {'Total Items' : len(shipments.item_id.values),\n",
    "            'Total Cubic Volume in Feet' : shipments.cubic_volume_ft.values.sum(),\n",
    "            'Total Item Groups' : len(shipments.item_group.unique())}\n",
    "    \n",
    "    # Check for shipment id and build additional shipment summaries\n",
    "    if 'shipment_id' in shipments.keys() :\n",
    "        data['Total Shipments'] = len(shipments.shipment_id.unique())\n",
    "        data['Shipment Item Ratio'] = len(shipments.item_id.values) / len(shipments.shipment_id.unique())\n",
    "        data['Cubic Volume not Utilized'] = (1.58*len(shipments.shipment_id.unique()) - \n",
    "                                             shipments.cubic_volume_ft.values.sum())\n",
    "        data['Percent Cubic Volume not Utilized'] = round(((1.58 * len(shipments.shipment_id.unique()) - \n",
    "                                                            shipments.cubic_volume_ft.values.sum()) / \n",
    "                                                     shipments.cubic_volume_ft.values.sum()) * 100, 2)\n",
    "    # return resulting summary as a DataFrame\n",
    "    return (pd.DataFrame(data, \n",
    "                         index=['Details'])\n",
    "           )"
   ]
  },
  {
   "cell_type": "code",
   "execution_count": null,
   "metadata": {},
   "outputs": [],
   "source": [
    "summaries = summary(shipment)"
   ]
  },
  {
   "cell_type": "code",
   "execution_count": null,
   "metadata": {},
   "outputs": [],
   "source": [
    "summaries['Total Shipments'][0]"
   ]
  },
  {
   "cell_type": "code",
   "execution_count": null,
   "metadata": {},
   "outputs": [],
   "source": [
    "summaries.head()"
   ]
  },
  {
   "cell_type": "markdown",
   "metadata": {},
   "source": [
    "## Grouping Prototypes"
   ]
  },
  {
   "cell_type": "code",
   "execution_count": null,
   "metadata": {},
   "outputs": [],
   "source": [
    "def get_groups(items):\n",
    "    if 'item_group' in items.keys() :\n",
    "        return items.item_group.unique()\n",
    "    else :\n",
    "        return None"
   ]
  },
  {
   "cell_type": "code",
   "execution_count": null,
   "metadata": {},
   "outputs": [],
   "source": [
    "shipments_filtered = {}\n",
    "for group in get_groups(items):\n",
    "    stock_filtered = items[items.item_group.values == group]\n",
    "    shipments_filtered[group] = shipments(stock_filtered)"
   ]
  },
  {
   "cell_type": "code",
   "execution_count": null,
   "metadata": {},
   "outputs": [],
   "source": [
    "shipments_filtered['A'].head()"
   ]
  }
 ],
 "metadata": {
  "kernelspec": {
   "display_name": "Python 3",
   "language": "python",
   "name": "python3"
  },
  "language_info": {
   "codemirror_mode": {
    "name": "ipython",
    "version": 3
   },
   "file_extension": ".py",
   "mimetype": "text/x-python",
   "name": "python",
   "nbconvert_exporter": "python",
   "pygments_lexer": "ipython3",
   "version": "3.6.8"
  }
 },
 "nbformat": 4,
 "nbformat_minor": 2
}
